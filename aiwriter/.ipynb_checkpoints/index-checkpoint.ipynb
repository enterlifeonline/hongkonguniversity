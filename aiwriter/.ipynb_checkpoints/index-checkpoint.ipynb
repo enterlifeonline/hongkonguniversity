{
 "cells": [
  {
   "cell_type": "markdown",
   "metadata": {},
   "source": [
    "QLX-I Data Science Fundamentals: Python |\n",
    "[Table of Contents](https://git.qlx.com/gsjackson/QLX-I)\n",
    "- - - \n",
    "<!--NAVIGATION-->\n",
    "**[AI Writer](index.ipynb)** | eGaming - Analytics: [Twitch](../egaming/twitch/index.ipynb) | [YouTube](../egaming/youtube/index.ipynb) | [Twitter](../egaming/twitter/index.ipynb) | [Facebook](../egaming/facebook/index.ipynb)"
   ]
  },
  {
   "cell_type": "markdown",
   "metadata": {},
   "source": [
    "## [AI-Writer](ai-writer.com) API"
   ]
  },
  {
   "cell_type": "code",
   "execution_count": 2,
   "metadata": {},
   "outputs": [
    {
     "data": {
      "text/html": [
       "<iframe width=\"560\" height=\"315\" src=\"https://www.youtube.com/embed/MdI6nvxseEA?rel=0&amp;controls=0&amp;showinfo=0\" frameborder=\"0\" allowfullscreen></iframe>"
      ],
      "text/plain": [
       "<IPython.core.display.HTML object>"
      ]
     },
     "execution_count": 2,
     "metadata": {},
     "output_type": "execute_result"
    }
   ],
   "source": [
    "from IPython.display import HTML\n",
    "\n",
    "# Youtube\n",
    "HTML('<iframe width=\"560\" height=\"315\" src=\"https://www.youtube.com/embed/MdI6nvxseEA?rel=0&amp;controls=0&amp;showinfo=0\" frameborder=\"0\" allowfullscreen></iframe>')\n"
   ]
  },
  {
   "cell_type": "code",
   "execution_count": null,
   "metadata": {},
   "outputs": [],
   "source": [
    "import requests\n",
    "import json\n",
    "import time\n",
    "\n",
    "# HTML by http://hilite.me/ , thanks!\n",
    "\n",
    "# the config\n",
    "SERVER = \"https://panel.ai-writer.com/\"\n",
    "API_KEY = \"********************************************\"\n",
    "\n",
    "RESEARCH_QUERY = \"top 5 eGamers from Australia\"\n",
    "# RESEARCH_QUERY = \"top 5 eGamers from China\"\n",
    "# RESEARCH_QUERY = \"top 5 eGamers from Korea\"\n",
    "# RESEARCH_QUERY = \"top 5 eGamers from Singapore\"\n",
    "# RESEARCH_QUERY = \"top 5 eGamers from USA\"\n",
    "\n",
    "\n",
    "# helper functions\n",
    "def pretty_print(headline, json_obj):\n",
    "    print(\"-----------------\", headline, \"-----------------\")\n",
    "    print(json.dumps(json_obj, sort_keys=True, indent=4, separators=(',', ': ')))\n",
    "\n",
    "\n",
    "# first, we create a new research request for the keyword \"marketing\"\n",
    "research_request_obj = requests.post(SERVER + '/aiw/apiendpoint2/put_research_request/'+requests.utils.quote(RESEARCH_QUERY), params={\"api_key\":API_KEY, \"identifier\": \"test_identifier\"}).json()\n",
    "\n",
    "# show output\n",
    "pretty_print(\"NEW REQUEST\", research_request_obj)\n",
    "\n",
    "# list the last 10 requests\n",
    "research_list_obj = requests.get(SERVER + '/aiw/apiendpoint2/list_research_requests/0/10', params={\"api_key\":API_KEY}).json()\n",
    "\n",
    "# show list\n",
    "pretty_print(\"CURRENT RESEARCH\", research_list_obj)\n",
    "\n",
    "\n",
    "# now get the research result, we will wait for a while and keep asking the server about it\n",
    "for _ in range(30):\n",
    "\n",
    "    # request the result of the query\n",
    "    research_result = requests.get(SERVER + '/aiw/apiendpoint2/get_research_result/'+research_request_obj[\"id\"], params={\"api_key\":API_KEY}).json()\n",
    "\n",
    "    # if the result is here, we will break the waiting loop\n",
    "    if \"result\" in research_result and research_result[\"result\"] is not None:\n",
    "        break\n",
    "\n",
    "    # the sleep makes sure we do not bomb the API endpoints\n",
    "    time.sleep(30)\n",
    "\n",
    "\n",
    "# go through all rewritten paragraphs and print them\n",
    "for paragraph in research_result[\"result\"][\"article\"]:\n",
    "    print(paragraph[\"paragraph_text\"])\n",
    "\n",
    "# print all cited sources\n",
    "for src_url in research_result[\"result\"][\"cited_sources\"]:\n",
    "    print(\"Source:\", src_url)"
   ]
  }
 ],
 "metadata": {
  "kernelspec": {
   "display_name": "Python 3",
   "language": "python",
   "name": "python3"
  },
  "language_info": {
   "codemirror_mode": {
    "name": "ipython",
    "version": 3
   },
   "file_extension": ".py",
   "mimetype": "text/x-python",
   "name": "python",
   "nbconvert_exporter": "python",
   "pygments_lexer": "ipython3",
   "version": "3.8.5"
  }
 },
 "nbformat": 4,
 "nbformat_minor": 4
}
