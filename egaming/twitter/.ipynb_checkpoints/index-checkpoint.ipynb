{
 "cells": [
  {
   "cell_type": "markdown",
   "metadata": {},
   "source": [
    "QLX-I Data Science Fundamentals: Python |\n",
    "[Table of Contents](https://git.qlx.com/gsjackson/QLX-I)\n",
    "- - - \n",
    "<!--NAVIGATION-->\n",
    "[AI Writer](../../aiwriter/index.ipynb) | eGaming - Analytics: [Twitch](../twitch/index.ipynb) | [YouTube](../youtube/index.ipynb) | **[Twitter](../twitter/index.ipynb)** | [Facebook](../facebook/index.ipynb)"
   ]
  },
  {
   "cell_type": "markdown",
   "metadata": {},
   "source": [
    "## Twitter Analytics API"
   ]
  },
  {
   "cell_type": "code",
   "execution_count": null,
   "metadata": {},
   "outputs": [],
   "source": [
    "import twitter\n",
    "\n",
    "api = twitter.Api(consumer_key='consumer_key',\n",
    "                          consumer_secret='consumer_secret',\n",
    "                          access_token_key='access_token',\n",
    "                          access_token_secret='access_token_secret')\n",
    "\n",
    "print(api.VerifyCredentials())\n",
    "    {\"id\": 16133, \"location\": \"Philadelphia\", \"name\": \"bear\"}\n",
    "\n",
    "statuses = api.GetUserTimeline(screen_name=user)\n",
    "    print([s.text for s in statuses])\n",
    "\n",
    "users = api.GetFriends()\n",
    "print([u.name for u in users])\n",
    "\n",
    "status = api.PostUpdate('I love python-twitter!')\n",
    "print(status.text)"
   ]
  }
 ],
 "metadata": {
  "kernelspec": {
   "display_name": "Python 3",
   "language": "python",
   "name": "python3"
  },
  "language_info": {
   "codemirror_mode": {
    "name": "ipython",
    "version": 3
   },
   "file_extension": ".py",
   "mimetype": "text/x-python",
   "name": "python",
   "nbconvert_exporter": "python",
   "pygments_lexer": "ipython3",
   "version": "3.8.5"
  }
 },
 "nbformat": 4,
 "nbformat_minor": 4
}
